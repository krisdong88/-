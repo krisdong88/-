{
 "cells": [
  {
   "cell_type": "markdown",
   "metadata": {},
   "source": [
    "Pytorch Inverted Dropout 实现\n",
    "Dropout会在训练的时候随机将一部分的神经元权重变0，如果一个神经元都没有被dropout的情况下输出是10的话，那么如果在这个神经元被激活的时候，他的输出就会变成10/0.5 = 20这样的话这个神经元在训练期间是否被丢弃，他的平均贡献都会和测试阶段相同"
   ]
  },
  {
   "cell_type": "code",
   "execution_count": 1,
   "metadata": {},
   "outputs": [
    {
     "name": "stdout",
     "output_type": "stream",
     "text": [
      "输出（训练）: tensor([[ 0.3493, -1.9697]], grad_fn=<AddmmBackward0>)\n",
      "输出（测试）: tensor([[ 0.3176, -1.0484]], grad_fn=<AddmmBackward0>)\n"
     ]
    }
   ],
   "source": [
    "import torch\n",
    "import torch.nn as nn\n",
    "\n",
    "class Model(nn.Module):\n",
    "    def __init__(self):\n",
    "        super(Model, self).__init__()\n",
    "        self.dropout = nn.Dropout(p=0.5)  # 50% 的丢弃概率\n",
    "        self.linear = nn.Linear(10, 2)  # 一个简单的线性层\n",
    "\n",
    "    def forward(self, x):\n",
    "        x = self.dropout(x)  # 应用 Dropout\n",
    "        return self.linear(x)\n",
    "\n",
    "# 创建模型和数据\n",
    "model = Model()\n",
    "x = torch.randn(1, 10)\n",
    "\n",
    "# 训练模式\n",
    "model.train()\n",
    "print(\"输出（训练）:\", model(x))\n",
    "\n",
    "# 测试模式\n",
    "model.eval()\n",
    "print(\"输出（测试）:\", model(x))\n"
   ]
  }
 ],
 "metadata": {
  "kernelspec": {
   "display_name": "Python 3",
   "language": "python",
   "name": "python3"
  },
  "language_info": {
   "codemirror_mode": {
    "name": "ipython",
    "version": 3
   },
   "file_extension": ".py",
   "mimetype": "text/x-python",
   "name": "python",
   "nbconvert_exporter": "python",
   "pygments_lexer": "ipython3",
   "version": "3.12.3"
  }
 },
 "nbformat": 4,
 "nbformat_minor": 2
}
