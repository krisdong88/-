{
 "cells": [
  {
   "cell_type": "markdown",
   "metadata": {},
   "source": [
    "手撕Attention"
   ]
  },
  {
   "cell_type": "markdown",
   "metadata": {},
   "source": [
    "Numpy 版本"
   ]
  },
  {
   "cell_type": "code",
   "execution_count": 1,
   "metadata": {},
   "outputs": [
    {
     "name": "stdout",
     "output_type": "stream",
     "text": [
      "(512, 768)\n"
     ]
    },
    {
     "name": "stderr",
     "output_type": "stream",
     "text": [
      "C:\\Users\\krisd\\AppData\\Local\\Temp\\ipykernel_55476\\2949255882.py:6: RuntimeWarning: invalid value encountered in divide\n",
      "  result = e_x / np.sum(e_x, axis=-1, keepdims=True)\n"
     ]
    },
    {
     "name": "stdout",
     "output_type": "stream",
     "text": [
      "(512, 768)\n"
     ]
    }
   ],
   "source": [
    "import numpy as np\n",
    "\n",
    "\n",
    "def softmax(x):\n",
    "    e_x = np.exp(x - np.max(x))\n",
    "    result = e_x / np.sum(e_x, axis=-1, keepdims=True)\n",
    "    return result\n",
    "\n",
    "def attention(x):\n",
    "    n, d = x.shape\n",
    "    Wq = np.random.rand(d, d)\n",
    "    Wk = np.random.rand(d, d)\n",
    "    Wv = np.random.rand(d, d)\n",
    "    q = x @ Wq\n",
    "    k = x @ Wk\n",
    "    v = x @ Wv\n",
    "    A = q @ k.T\n",
    "    A = A / np.sqrt(d)\n",
    "    A_hat = softmax(A)\n",
    "    output = A_hat @ v\n",
    "    print(output.shape) # n, d\n",
    "\n",
    "\n",
    "def multi_head_attention(x, head_n=16):\n",
    "    n, d = x.shape\n",
    "    assert d % head_n == 0\n",
    "    Wq = np.random.rand(d, d)\n",
    "    Wk = np.random.rand(d, d)\n",
    "    Wv = np.random.rand(d, d)\n",
    "    q = x @ Wq\n",
    "    k = x @ Wk\n",
    "    v = x @ Wv\n",
    "    q = np.reshape(q, (n, head_n, d // head_n))\n",
    "    k = np.reshape(k, (n, head_n, d // head_n))\n",
    "    v = np.reshape(v, (n, head_n, d // head_n))\n",
    "    q = np.transpose(q, (1, 0, 2))  # head_n, n, d // head_n\n",
    "    k = np.transpose(k, (1, 0, 2))\n",
    "    v = np.transpose(v, (1, 0, 2))\n",
    "    A = q @ np.transpose(k, (0, 2, 1))\n",
    "    A = A / np.sqrt(d // head_n)\n",
    "    A_hat = softmax(A) # head_n, n, n\n",
    "    output = A_hat @ v # head_n, n, d // head_n\n",
    "    output = np.transpose(output, (1, 0, 2))    # n, head_n, d // head_n\n",
    "    output = np.reshape(output, (n, d)) \n",
    "    print(output.shape) # n, d\n",
    "    \n",
    "\n",
    "if __name__ == \"__main__\":\n",
    "    attention(np.random.rand(512, 768))\n",
    "    multi_head_attention(np.random.rand(512, 768))"
   ]
  }
 ],
 "metadata": {
  "kernelspec": {
   "display_name": "Python 3",
   "language": "python",
   "name": "python3"
  },
  "language_info": {
   "codemirror_mode": {
    "name": "ipython",
    "version": 3
   },
   "file_extension": ".py",
   "mimetype": "text/x-python",
   "name": "python",
   "nbconvert_exporter": "python",
   "pygments_lexer": "ipython3",
   "version": "3.12.3"
  }
 },
 "nbformat": 4,
 "nbformat_minor": 2
}
