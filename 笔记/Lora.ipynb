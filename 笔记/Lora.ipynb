{
 "cells": [
  {
   "cell_type": "markdown",
   "metadata": {},
   "source": [
    "RlRA是一种用于微调大模型的技术，可以减少参数的调整数量来提升效率和减少成本，主要的思想就是通过引入低秩矩阵分解来对大模型的权重进行适应性的调整，而不是直接更新所有的权重参数"
   ]
  },
  {
   "cell_type": "markdown",
   "metadata": {},
   "source": [
    "主要步骤：\n",
    "1.低秩矩阵分解：假设原始权重矩阵W可以表示为两个低秩矩阵A和B的乘积,即W约等于AB，其中A和B的秩远小于W\n",
    "2.训练过程：仅更新A和B矩阵，而保持原始的权重矩阵W不变，这样减少了需要调整的参数数量，从而降低了计算成本和存储需求.\n",
    "3.参数更新在反向传播过程中，仅计算和更新A和B的梯度，而不更新原始矩阵W"
   ]
  },
  {
   "cell_type": "markdown",
   "metadata": {},
   "source": [
    "以下是一个使用 PyTorch 实现 LoRA 的示例代码，假设我们正在微调一个简单的线性模型"
   ]
  },
  {
   "cell_type": "code",
   "execution_count": 1,
   "metadata": {},
   "outputs": [
    {
     "name": "stderr",
     "output_type": "stream",
     "text": [
      "c:\\Users\\krisd\\anaconda3\\envs\\DL\\Lib\\site-packages\\tqdm\\auto.py:21: TqdmWarning: IProgress not found. Please update jupyter and ipywidgets. See https://ipywidgets.readthedocs.io/en/stable/user_install.html\n",
      "  from .autonotebook import tqdm as notebook_tqdm\n"
     ]
    },
    {
     "name": "stdout",
     "output_type": "stream",
     "text": [
      "Epoch [10/100], Loss: 67.6263\n",
      "Epoch [20/100], Loss: 58.5656\n",
      "Epoch [30/100], Loss: 52.0420\n",
      "Epoch [40/100], Loss: 47.0117\n",
      "Epoch [50/100], Loss: 42.7443\n",
      "Epoch [60/100], Loss: 38.8427\n",
      "Epoch [70/100], Loss: 35.1114\n",
      "Epoch [80/100], Loss: 31.4750\n",
      "Epoch [90/100], Loss: 27.9232\n",
      "Epoch [100/100], Loss: 24.4755\n"
     ]
    }
   ],
   "source": [
    "import torch\n",
    "import torch.nn as nn\n",
    "import torch.optim as optim\n",
    "\n",
    "class LoRALinear(nn.Module):\n",
    "    def __init__(self, in_features, out_features, rank):\n",
    "        super(LoRALinear, self).__init__()\n",
    "        self.rank = rank\n",
    "        self.in_features = in_features\n",
    "        self.out_features = out_features\n",
    "\n",
    "        # 原始权重矩阵（保持不变）\n",
    "        self.W = nn.Parameter(torch.randn(out_features, in_features), requires_grad=False)\n",
    "\n",
    "        # 低秩矩阵 A 和 B（可训练）\n",
    "        self.A = nn.Parameter(torch.randn(out_features, rank))\n",
    "        self.B = nn.Parameter(torch.randn(rank, in_features))\n",
    "\n",
    "    def forward(self, x):\n",
    "        # 使用低秩矩阵近似原始权重矩阵进行前向传播\n",
    "        W_approx = self.A @ self.B\n",
    "        return torch.nn.functional.linear(x, self.W + W_approx)\n",
    "\n",
    "# 定义模型和损失函数\n",
    "model = LoRALinear(in_features=10, out_features=1, rank=2)\n",
    "criterion = nn.MSELoss()\n",
    "optimizer = optim.Adam(model.parameters(), lr=0.01)\n",
    "\n",
    "# 生成一些示例数据\n",
    "torch.manual_seed(0)\n",
    "X = torch.randn(100, 10)\n",
    "y = 3 * X.sum(dim=1, keepdim=True) + 2 + 0.5 * torch.randn(100, 1)\n",
    "\n",
    "# 训练模型\n",
    "num_epochs = 100\n",
    "for epoch in range(num_epochs):\n",
    "    optimizer.zero_grad()\n",
    "    outputs = model(X)\n",
    "    loss = criterion(outputs, y)\n",
    "    loss.backward()\n",
    "    optimizer.step()\n",
    "    if (epoch + 1) % 10 == 0:\n",
    "        print(f\"Epoch [{epoch+1}/{num_epochs}], Loss: {loss.item():.4f}\")\n"
   ]
  },
  {
   "cell_type": "markdown",
   "metadata": {},
   "source": [
    "优势就是有高效的微调，通过仅更新低秩矩阵，减少了微调过程中需要调整的参数数量，提升了微调的效率\n",
    "然后可以降低计算成本和存储需求\n",
    "性能可以保持提升"
   ]
  }
 ],
 "metadata": {
  "kernelspec": {
   "display_name": "DL",
   "language": "python",
   "name": "python3"
  },
  "language_info": {
   "codemirror_mode": {
    "name": "ipython",
    "version": 3
   },
   "file_extension": ".py",
   "mimetype": "text/x-python",
   "name": "python",
   "nbconvert_exporter": "python",
   "pygments_lexer": "ipython3",
   "version": "3.11.9"
  }
 },
 "nbformat": 4,
 "nbformat_minor": 2
}
