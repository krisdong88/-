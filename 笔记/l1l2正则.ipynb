{
 "cells": [
  {
   "cell_type": "markdown",
   "metadata": {},
   "source": [
    "正则就是在模型的损失函数当中来添加惩罚来限制模型参数的大小，从而提升模型的泛化能力。\n",
    "l1正则也就是Lasso正则是通过在损失函数中加入参数的绝对值之和来作为惩罚\n",
    "Loss = Original Loss + 正则化参数用于控制惩罚项的强度；然后乘以wi也就是模型的权重参数的绝对值."
   ]
  },
  {
   "cell_type": "markdown",
   "metadata": {},
   "source": [
    "L2正则也就是Ridge正则是通过在损失函数中加入参数的平方和作为惩罚项。\n",
    "Loss = Original Loss + 正则化参数，用于控制惩罚项的强度，然后是权重参数的平方。"
   ]
  },
  {
   "cell_type": "markdown",
   "metadata": {},
   "source": [
    "数据生成"
   ]
  },
  {
   "cell_type": "code",
   "execution_count": 2,
   "metadata": {},
   "outputs": [],
   "source": [
    "import torch\n",
    "import torch.nn as nn\n",
    "import torch.optim as optim\n",
    "\n",
    "# 生成一些示例数据\n",
    "torch.manual_seed(0)\n",
    "X = torch.randn(100, 1)\n",
    "y = 3 * X.squeeze() + 2 + 0.5 * torch.randn(100)\n",
    "\n",
    "# 定义数据集和数据加载器\n",
    "dataset = torch.utils.data.TensorDataset(X, y)\n",
    "data_loader = torch.utils.data.DataLoader(dataset, batch_size=10, shuffle=True)"
   ]
  },
  {
   "cell_type": "markdown",
   "metadata": {},
   "source": [
    "定义模型和损失函数"
   ]
  },
  {
   "cell_type": "code",
   "execution_count": 3,
   "metadata": {},
   "outputs": [],
   "source": [
    "# 定义线性回归模型\n",
    "class LinearRegressionModel(nn.Module):\n",
    "    def __init__(self):\n",
    "        super(LinearRegressionModel, self).__init__()\n",
    "        self.linear = nn.Linear(1, 1)\n",
    "\n",
    "    def forward(self, x):\n",
    "        return self.linear(x)\n",
    "\n",
    "model = LinearRegressionModel()\n",
    "criterion = nn.MSELoss()"
   ]
  },
  {
   "cell_type": "markdown",
   "metadata": {},
   "source": [
    "L1正则化"
   ]
  },
  {
   "cell_type": "code",
   "execution_count": null,
   "metadata": {},
   "outputs": [],
   "source": [
    "# 使用L1正则化\n",
    "optimizer = optim.SGD(model.parameters(), lr=0.01)\n",
    "\n",
    "# 定义L1正则化的强度\n",
    "l1_lambda = 0.01\n",
    "\n",
    "# 训练模型\n",
    "num_epochs = 100\n",
    "for epoch in range(num_epochs):\n",
    "    for inputs, targets in data_loader:\n",
    "        optimizer.zero_grad()\n",
    "        outputs = model(inputs)\n",
    "        loss = criterion(outputs, targets.unsqueeze(1))\n",
    "\n",
    "        # 添加L1正则化项\n",
    "        l1_norm = sum(p.abs().sum() for p in model.parameters())\n",
    "        loss = loss + l1_lambda * l1_norm\n",
    "\n",
    "        loss.backward()\n",
    "        optimizer.step()\n",
    "\n",
    "    print(f\"Epoch {epoch+1}, Loss: {loss.item()}\")"
   ]
  },
  {
   "cell_type": "markdown",
   "metadata": {},
   "source": [
    "L2正则化"
   ]
  },
  {
   "cell_type": "code",
   "execution_count": null,
   "metadata": {},
   "outputs": [],
   "source": [
    "# 使用L2正则化\n",
    "optimizer = optim.SGD(model.parameters(), lr=0.01, weight_decay=0.01)  # weight_decay用于L2正则化\n",
    "\n",
    "# 训练模型\n",
    "num_epochs = 100\n",
    "for epoch in range(num_epochs):\n",
    "    for inputs, targets in data_loader:\n",
    "        optimizer.zero_grad()\n",
    "        outputs = model(inputs)\n",
    "        loss = criterion(outputs, targets.unsqueeze(1))\n",
    "        loss.backward()\n",
    "        optimizer.step()\n",
    "\n",
    "    print(f\"Epoch {epoch+1}, Loss: {loss.item()}\")\n"
   ]
  },
  {
   "cell_type": "markdown",
   "metadata": {},
   "source": [
    "总结\n",
    "L1正则化通过添加权重的绝对值之和，促进稀疏性，可能会导致一些权重变成0，从来自动进行特征选择\n",
    "L2正则化通过添加权重的平方和，限制权重的大小，是模型更加平滑，防止权重过大，减少过拟合风险"
   ]
  },
  {
   "cell_type": "markdown",
   "metadata": {},
   "source": [
    "如果说不想选我都想要那就用Elastic Net来实现这就是把俩都加一起了"
   ]
  },
  {
   "cell_type": "code",
   "execution_count": 6,
   "metadata": {},
   "outputs": [
    {
     "name": "stdout",
     "output_type": "stream",
     "text": [
      "Train Score: 0.8900192352862634\n",
      "Test Score: 0.8853356711767842\n"
     ]
    }
   ],
   "source": [
    "from sklearn.linear_model import ElasticNet\n",
    "from sklearn.datasets import make_regression\n",
    "from sklearn.model_selection import train_test_split\n",
    "\n",
    "# 生成示例数据\n",
    "X, y = make_regression(n_samples=1000, n_features=20, noise=0.1)\n",
    "X_train, X_test, y_train, y_test = train_test_split(X, y, test_size=0.2, random_state=42)\n",
    "\n",
    "# 定义Elastic Net模型\n",
    "elastic_net = ElasticNet(alpha=1.0, l1_ratio=0.5)  # l1_ratio=0.5表示L1和L2正则化的混合比例\n",
    "\n",
    "# 训练模型\n",
    "elastic_net.fit(X_train, y_train)\n",
    "\n",
    "# 评估模型\n",
    "print(f\"Train Score: {elastic_net.score(X_train, y_train)}\")\n",
    "print(f\"Test Score: {elastic_net.score(X_test, y_test)}\")\n"
   ]
  },
  {
   "cell_type": "markdown",
   "metadata": {},
   "source": [
    "以下是一个自动选择特征的例子"
   ]
  },
  {
   "cell_type": "code",
   "execution_count": 8,
   "metadata": {},
   "outputs": [
    {
     "name": "stdout",
     "output_type": "stream",
     "text": [
      "Feature weights: [ 3.92693362e-01  1.50810624e-02 -0.00000000e+00  0.00000000e+00\n",
      "  1.64168387e-05 -3.14918929e-03 -1.14291203e-01 -9.93076483e-02]\n",
      "Selected features indices: [0 1 4 5 6 7]\n",
      "Selected features names: ['MedInc', 'HouseAge', 'Population', 'AveOccup', 'Latitude', 'Longitude']\n",
      "Train Score: 0.5489153425707493\n",
      "Test Score: 0.5318167610318159\n"
     ]
    }
   ],
   "source": [
    "from sklearn.linear_model import Lasso\n",
    "from sklearn.datasets import fetch_california_housing\n",
    "from sklearn.model_selection import train_test_split\n",
    "import numpy as np\n",
    "\n",
    "# 加载加利福尼亚房价数据集\n",
    "data = fetch_california_housing()\n",
    "X, y = data.data, data.target\n",
    "\n",
    "# 拆分数据集\n",
    "X_train, X_test, y_train, y_test = train_test_split(X, y, test_size=0.2, random_state=42)\n",
    "\n",
    "# 定义Lasso回归模型\n",
    "lasso = Lasso(alpha=0.1)\n",
    "\n",
    "# 训练模型\n",
    "lasso.fit(X_train, y_train)\n",
    "\n",
    "# 输出特征权重\n",
    "print(\"Feature weights:\", lasso.coef_)\n",
    "\n",
    "# 查看被选择的重要特征\n",
    "selected_features = np.where(lasso.coef_ != 0)[0]\n",
    "print(\"Selected features indices:\", selected_features)\n",
    "print(\"Selected features names:\", [data.feature_names[i] for i in selected_features])\n",
    "\n",
    "# 评估模型\n",
    "train_score = lasso.score(X_train, y_train)\n",
    "test_score = lasso.score(X_test, y_test)\n",
    "print(f\"Train Score: {train_score}\")\n",
    "print(f\"Test Score: {test_score}\")\n"
   ]
  }
 ],
 "metadata": {
  "kernelspec": {
   "display_name": "DL",
   "language": "python",
   "name": "python3"
  },
  "language_info": {
   "codemirror_mode": {
    "name": "ipython",
    "version": 3
   },
   "file_extension": ".py",
   "mimetype": "text/x-python",
   "name": "python",
   "nbconvert_exporter": "python",
   "pygments_lexer": "ipython3",
   "version": "3.11.9"
  }
 },
 "nbformat": 4,
 "nbformat_minor": 2
}
