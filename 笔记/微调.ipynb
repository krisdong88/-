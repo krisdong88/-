{
 "cells": [
  {
   "cell_type": "markdown",
   "metadata": {},
   "source": [
    "总的来说微调一共分成四个步骤\n",
    "1.在原来的数据集比如ImageNet预训练一个神经网络作为backbone，因为这样可以让原来的模型学习到很多特征一般都会使用现有的与训练大模型，在CV里面就会使用比如Vit-Large,ResNet-152之类已经在ImageNet数据集上训练并且测试良好的模型来作为源模型。这样公司可以在前面节约很多时间并且可以省下很多的计算资源。就打个比方，这些大公司用了很多钱和资源训练出来的模型就是车厂刚造出来的车子，而微调的作用就是在有限的资源上面来对这辆汽车进行改装这样可以适配更多的路况，比如兰博基尼越野车。"
   ]
  },
  {
   "cell_type": "markdown",
   "metadata": {},
   "source": [
    "2.创建一个新的神经网络模型，即目标模型，它复制了源模型上除了输出层一味的所有模型设计以及参数"
   ]
  },
  {
   "cell_type": "markdown",
   "metadata": {},
   "source": [
    "3.为目标模型添加一个输出大小为目标数据集类别个数的输出层，并且随机初始化该层的模型参数"
   ]
  },
  {
   "cell_type": "markdown",
   "metadata": {},
   "source": [
    "4.在目标数据集上训练目标模型，从头开始训练输出层，而其余层的参数都是基于源模型的参数微调得到的"
   ]
  },
  {
   "cell_type": "markdown",
   "metadata": {},
   "source": [
    "当目标数据集小于源数据集的时候，微调会有助于提升模型的泛化能力。"
   ]
  }
 ],
 "metadata": {
  "kernelspec": {
   "display_name": "base",
   "language": "python",
   "name": "python3"
  },
  "language_info": {
   "codemirror_mode": {
    "name": "ipython",
    "version": 3
   },
   "file_extension": ".py",
   "mimetype": "text/x-python",
   "name": "python",
   "nbconvert_exporter": "python",
   "pygments_lexer": "ipython3",
   "version": "3.11.9"
  }
 },
 "nbformat": 4,
 "nbformat_minor": 2
}
