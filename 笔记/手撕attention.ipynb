{
 "cells": [
  {
   "cell_type": "markdown",
   "metadata": {},
   "source": [
    "手撕Attention 参考（https://blog.csdn.net/wl1780852311/article/details/120981553）"
   ]
  },
  {
   "cell_type": "markdown",
   "metadata": {},
   "source": [
    "Numpy 版本"
   ]
  },
  {
   "cell_type": "code",
   "execution_count": 2,
   "metadata": {},
   "outputs": [],
   "source": [
    "import numpy as np\n",
    "from numpy.random import randn"
   ]
  },
  {
   "cell_type": "markdown",
   "metadata": {},
   "source": [
    "创造一个 256 * 32 的矩阵X\n",
    "randn会返回一个或者一组样本，具有标准正态分布\n",
    "例子：\n",
    "np.random.randn() # 没有参数时，会返回单个数据\n",
    "如果有参数那就会返回 高宽，（2,4）就是 高2宽4，（4,3,2)就是 高4 高 3 宽2"
   ]
  },
  {
   "cell_type": "code",
   "execution_count": 3,
   "metadata": {},
   "outputs": [
    {
     "data": {
      "text/plain": [
       "(256, 32)"
      ]
     },
     "execution_count": 3,
     "metadata": {},
     "output_type": "execute_result"
    }
   ],
   "source": [
    "d = 256 # dimension\n",
    "n = 32 # 32 个序列\n",
    "x = randn(d,n)\n",
    "x.shape"
   ]
  },
  {
   "cell_type": "markdown",
   "metadata": {},
   "source": [
    "attention最重要的三个向量\n",
    "q : queue\n",
    "k : key\n",
    "v : value"
   ]
  },
  {
   "cell_type": "code",
   "execution_count": 4,
   "metadata": {},
   "outputs": [
    {
     "data": {
      "text/plain": [
       "(256, 32)"
      ]
     },
     "execution_count": 4,
     "metadata": {},
     "output_type": "execute_result"
    }
   ],
   "source": [
    "w_q = randn(d,d) # 256 * 256 的正态分布矩阵\n",
    "w_k = randn(d,d) # 256 * 256 的正态分布矩阵\n",
    "w_v = randn(d,d) # 256 * 256 的正态分布矩阵\n",
    "\n",
    "q = w_q @ x # @ 是执行矩阵和矩阵之间的乘法 这样就会的到向量q\n",
    "k = w_k @ x # @ 是执行矩阵和矩阵之间的乘法 这样就会的到向量k\n",
    "v = w_v @ x # @ 是执行矩阵和矩阵之间的乘法 这样就会的到向量v\n",
    "\n",
    "q.shape"
   ]
  },
  {
   "cell_type": "code",
   "execution_count": 6,
   "metadata": {},
   "outputs": [
    {
     "data": {
      "text/plain": [
       "((32, 32), (256, 32))"
      ]
     },
     "execution_count": 6,
     "metadata": {},
     "output_type": "execute_result"
    }
   ],
   "source": [
    "A = k.T @ q # k.T 就是把k翻转\n",
    "A.shape,v.shape"
   ]
  },
  {
   "cell_type": "code",
   "execution_count": 7,
   "metadata": {},
   "outputs": [
    {
     "data": {
      "text/plain": [
       "array([[-186.28152546, -327.31091177,  901.78046071, ..., -685.52216777,\n",
       "         140.49093616,  -18.59303539],\n",
       "       [ 215.02701858,  222.46104928, -129.31239471, ...,   51.208476  ,\n",
       "        -337.49968243,  -78.86530934],\n",
       "       [ 295.10610265, -133.33272948, -298.71067818, ..., -335.54932857,\n",
       "         249.05942478,  116.71229805],\n",
       "       ...,\n",
       "       [-120.38985538, -396.0853944 ,   79.99435585, ...,   22.17684716,\n",
       "           2.65507161, -235.80163013],\n",
       "       [ 243.77606635, -180.82252053,  169.29970995, ..., -592.71327039,\n",
       "         -55.77713235,  112.95361433],\n",
       "       [-409.84986147,   90.78628911,  192.07422874, ...,  138.23986669,\n",
       "        -175.57984414,   90.64594738]])"
      ]
     },
     "execution_count": 7,
     "metadata": {},
     "output_type": "execute_result"
    }
   ],
   "source": [
    "A /= np.sqrt(d)\n",
    "A"
   ]
  },
  {
   "cell_type": "code",
   "execution_count": null,
   "metadata": {},
   "outputs": [],
   "source": [
    "def softmax(x):\n",
    "    e_x = np.exp(x-np.max(x)) #防溢出\n",
    "    return e_x/e_x.sum(axis = 0)"
   ]
  },
  {
   "cell_type": "code",
   "execution_count": 8,
   "metadata": {},
   "outputs": [
    {
     "data": {
      "text/plain": [
       "array([[0.00000000e+000, 0.00000000e+000, 1.00000000e+000, ...,\n",
       "        0.00000000e+000, 0.00000000e+000, 0.00000000e+000],\n",
       "       [3.77552573e-060, 6.39051626e-057, 0.00000000e+000, ...,\n",
       "        0.00000000e+000, 0.00000000e+000, 0.00000000e+000],\n",
       "       [1.00000000e+000, 0.00000000e+000, 0.00000000e+000, ...,\n",
       "        0.00000000e+000, 1.00503663e-020, 0.00000000e+000],\n",
       "       ...,\n",
       "       [0.00000000e+000, 0.00000000e+000, 0.00000000e+000, ...,\n",
       "        0.00000000e+000, 0.00000000e+000, 0.00000000e+000],\n",
       "       [3.01783888e-117, 0.00000000e+000, 1.36466332e-149, ...,\n",
       "        0.00000000e+000, 0.00000000e+000, 0.00000000e+000],\n",
       "       [0.00000000e+000, 0.00000000e+000, 6.25736337e-231, ...,\n",
       "        0.00000000e+000, 0.00000000e+000, 0.00000000e+000]])"
      ]
     },
     "execution_count": 8,
     "metadata": {},
     "output_type": "execute_result"
    }
   ],
   "source": [
    "A_hat = softmax(A)\n",
    "A_hat"
   ]
  },
  {
   "cell_type": "code",
   "execution_count": 11,
   "metadata": {},
   "outputs": [
    {
     "data": {
      "text/plain": [
       "array([[-2.82020593e+01,  1.45791903e-23,  2.68626059e+01, ...,\n",
       "         9.85585373e-01, -3.12174858e+01, -3.72031252e-58],\n",
       "       [-6.42106743e+01, -8.10166305e-26,  2.82501107e+00, ...,\n",
       "         5.08977665e+01,  1.17836465e+01,  9.69096388e-59],\n",
       "       [-3.06145712e+01,  8.77560561e-24,  1.35399065e+01, ...,\n",
       "        -1.80679906e+01, -2.42719966e+01, -7.33615321e-58],\n",
       "       ...,\n",
       "       [-4.48008010e+01,  2.73512020e-23,  2.60210698e+01, ...,\n",
       "        -2.45475909e+01, -1.22014549e+01, -2.90356097e-58],\n",
       "       [-1.33037716e+01, -1.70305455e-24, -1.61389014e+01, ...,\n",
       "         1.76756471e+00, -2.44616246e+01,  2.43349465e-58],\n",
       "       [ 1.29454598e+01, -3.74118583e-23, -3.17166235e+01, ...,\n",
       "        -1.18961325e+01,  2.39138807e+01,  6.39741731e-59]])"
      ]
     },
     "execution_count": 11,
     "metadata": {},
     "output_type": "execute_result"
    }
   ],
   "source": [
    "output = v @ A_hat\n",
    "output"
   ]
  },
  {
   "cell_type": "code",
   "execution_count": 12,
   "metadata": {},
   "outputs": [
    {
     "data": {
      "text/plain": [
       "(256, 32)"
      ]
     },
     "execution_count": 12,
     "metadata": {},
     "output_type": "execute_result"
    }
   ],
   "source": [
    "output.shape"
   ]
  }
 ],
 "metadata": {
  "kernelspec": {
   "display_name": "Python 3",
   "language": "python",
   "name": "python3"
  },
  "language_info": {
   "codemirror_mode": {
    "name": "ipython",
    "version": 3
   },
   "file_extension": ".py",
   "mimetype": "text/x-python",
   "name": "python",
   "nbconvert_exporter": "python",
   "pygments_lexer": "ipython3",
   "version": "3.12.3"
  }
 },
 "nbformat": 4,
 "nbformat_minor": 2
}
