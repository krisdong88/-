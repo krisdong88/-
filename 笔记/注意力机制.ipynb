{
 "cells": [
  {
   "cell_type": "markdown",
   "metadata": {},
   "source": [
    "在心理学里面的话：人会根据随意线索和不随意线索来选择注意点。假如一张图片，里面是黑白的物品，但是中间有一个红色的杯子，那很明显你肯定注意力第一就放在那个红色的杯子上面了这就是不随意线索。然后你看到这里面有一本书，然后你去看那本书，那这就是随意线索。"
   ]
  },
  {
   "cell_type": "markdown",
   "metadata": {},
   "source": [
    "在卷积全连接Pooling里面基本都只考虑不随意线索。但是注意力机制则会很明显的考虑随意线索。"
   ]
  },
  {
   "cell_type": "markdown",
   "metadata": {},
   "source": [
    "随意线索就会被称为，query也就是这些线索，二key和value的对比如key就是一个物品放在那里，那么value就会使你觉得这个东西对你有什么作用，注意力机制也可以叫attention pooling，他会根据你的query来选择key value pair"
   ]
  },
  {
   "cell_type": "markdown",
   "metadata": {},
   "source": []
  }
 ],
 "metadata": {
  "language_info": {
   "name": "python"
  }
 },
 "nbformat": 4,
 "nbformat_minor": 2
}
